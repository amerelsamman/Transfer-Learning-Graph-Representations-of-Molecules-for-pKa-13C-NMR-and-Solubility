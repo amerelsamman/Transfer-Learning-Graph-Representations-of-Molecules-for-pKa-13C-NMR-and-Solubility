{
 "cells": [
  {
   "attachments": {},
   "cell_type": "markdown",
   "metadata": {},
   "source": [
    "Linear Regression From SciKit-Learn"
   ]
  },
  {
   "cell_type": "code",
   "execution_count": 12,
   "metadata": {},
   "outputs": [],
   "source": [
    "import numpy as np\n",
    "from numpy import genfromtxt\n",
    "from sklearn.linear_model import LinearRegression\n",
    "from sklearn.metrics import mean_squared_error, r2_score\n",
    "\n",
    "from sklearn.model_selection import train_test_split\n",
    "from sklearn.preprocessing import StandardScaler\n",
    "import math \n",
    "from sklearn.preprocessing import PolynomialFeatures\n",
    "\n",
    "# Load data into a Pandas DataFrame\n",
    "x_data = genfromtxt('../data/embs/embsdensity-ince/carbon/embs250-5000woccspca.csv',delimiter=',',encoding='utf-8-sig',skip_header=1)\n",
    "\n",
    "# Split data into X and y\n",
    "X = x_data[:,0:128]\n",
    "#128 --> pka\n",
    "#138 --> nmr\n",
    "#138 onwards --> electron density \n",
    "y = x_data[:,138:141]\n",
    "\n",
    "#label to split as well\n",
    "label = x_data[:,128:136]\n",
    "\n",
    "# Split the dataset into training and testing sets\n",
    "X_train, X_test, y_train, y_test, label_train, label_test = train_test_split(X, y, label, test_size=0.2, random_state=42)\n",
    "\n",
    "use_train_for_test = False\n",
    "\n",
    "save_pred_filepath = '../data/embs/embsdensity-ince/carbon/lrtestpredictions' #NO .csv!!"
   ]
  },
  {
   "cell_type": "code",
   "execution_count": 13,
   "metadata": {},
   "outputs": [
    {
     "name": "stdout",
     "output_type": "stream",
     "text": [
      "Mean square-root error: 0.006797923292683738\n",
      "R-squared: 0.8894137487964855\n"
     ]
    }
   ],
   "source": [
    "# Transform features to quadratic form\n",
    "#poly = PolynomialFeatures(degree=2)  # Use degree 2 for quadratic regression\n",
    "#X_train = poly.fit_transform(X_train)\n",
    "#X_test = poly.fit_transform(X_test)\n",
    "\n",
    "# Create a LinearRegression object\n",
    "lr = LinearRegression()\n",
    "\n",
    "# Standardize the data\n",
    "scaler_X = StandardScaler()\n",
    "scaler_y = StandardScaler()\n",
    "\n",
    "X_train_scaled = scaler_X.fit_transform(X_train)\n",
    "X_test_scaled = scaler_X.transform(X_test)\n",
    "\n",
    "y_train_scaled = scaler_y.fit_transform(y_train)\n",
    "y_test_scaled = scaler_y.transform(y_test)\n",
    "\n",
    "# Fit the model\n",
    "lr.fit(X_train_scaled, y_train_scaled)\n",
    "\n",
    "if use_train_for_test == True:\n",
    "    # Make predictions\n",
    "    predictions_scaled = lr.predict(X_train_scaled)\n",
    "    predictions = scaler_y.inverse_transform(predictions_scaled)\n",
    "\n",
    "    # Evaluate the model\n",
    "    mse = mean_squared_error(y_train, predictions)\n",
    "    r2 = r2_score(y_train, predictions)\n",
    "else:\n",
    "    # Make predictions\n",
    "    predictions_scaled = lr.predict(X_test_scaled)\n",
    "    predictions = scaler_y.inverse_transform(predictions_scaled)\n",
    "\n",
    "    # Evaluate the model\n",
    "    mse = mean_squared_error(y_test, predictions)\n",
    "    r2 = r2_score(y_test, predictions)\n",
    "\n",
    "print('Mean square-root error:', math.sqrt(mse))\n",
    "print('R-squared:', r2)\n"
   ]
  },
  {
   "cell_type": "code",
   "execution_count": 14,
   "metadata": {},
   "outputs": [
    {
     "name": "stdout",
     "output_type": "stream",
     "text": [
      "(18338, 8)\n",
      "(4585, 3)\n",
      "[[1.99455543 0.65660389 2.10136477]\n",
      " [1.99681025 0.64991693 2.0721682 ]\n",
      " [1.99588224 0.63759669 2.14522473]\n",
      " ...\n",
      " [1.9955826  0.64986369 2.13923683]\n",
      " [1.9991228  0.65405281 2.09456079]\n",
      " [1.99555814 0.65674251 2.15087748]]\n"
     ]
    }
   ],
   "source": [
    "\n",
    "print(np.shape(label_train))\n",
    "print(np.shape(predictions))\n",
    "\n",
    "print(predictions)\n",
    "\n",
    "for i in range(np.shape(predictions)[1]):\n",
    "\n",
    "    if use_train_for_test == True: \n",
    "        save_predictions = np.column_stack((predictions[:,i],y_train[:,i],label_train))\n",
    "    elif use_train_for_test == False: \n",
    "        save_predictions = np.column_stack((predictions[:,i],y_test[:,i],label_test))\n",
    "        \n",
    "    filepath =  save_pred_filepath + '%s.csv' %(i) \n",
    "    np.savetxt(filepath,save_predictions,delimiter=',')\n"
   ]
  },
  {
   "cell_type": "markdown",
   "metadata": {},
   "source": [
    "Custom testing"
   ]
  },
  {
   "cell_type": "code",
   "execution_count": null,
   "metadata": {},
   "outputs": [],
   "source": [
    "custom_test_path = '../data/datasets/embspKA-stef/induction/embs.csv'\n",
    "\n",
    "custom_test_data = genfromtxt(custom_test_path,delimiter=',',encoding='utf-8-sig',skip_header=1)\n",
    "\n",
    "X_test_custom = custom_test_data[:,0:128]\n",
    "# Make predictions\n",
    "predictions = lr.predict(X_test_custom)\n",
    "\n",
    "print(predictions)"
   ]
  }
 ],
 "metadata": {
  "kernelspec": {
   "display_name": "dlchem",
   "language": "python",
   "name": "python3"
  },
  "language_info": {
   "codemirror_mode": {
    "name": "ipython",
    "version": 3
   },
   "file_extension": ".py",
   "mimetype": "text/x-python",
   "name": "python",
   "nbconvert_exporter": "python",
   "pygments_lexer": "ipython3",
   "version": "3.7.16"
  },
  "orig_nbformat": 4
 },
 "nbformat": 4,
 "nbformat_minor": 2
}
