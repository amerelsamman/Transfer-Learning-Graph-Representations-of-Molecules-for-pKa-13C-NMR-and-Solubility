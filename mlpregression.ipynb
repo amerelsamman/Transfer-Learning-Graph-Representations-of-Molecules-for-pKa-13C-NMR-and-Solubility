{
 "cells": [
  {
   "cell_type": "markdown",
   "metadata": {},
   "source": [
    "MLP Tool"
   ]
  },
  {
   "cell_type": "code",
   "execution_count": 1,
   "metadata": {},
   "outputs": [],
   "source": [
    "from sklearn.neural_network import MLPRegressor\n",
    "from sklearn.model_selection import train_test_split\n",
    "from sklearn.metrics import mean_squared_error, r2_score\n",
    "from sklearn.preprocessing import StandardScaler\n",
    "\n",
    "from numpy import genfromtxt\n",
    "\n",
    "# Load data into a Pandas DataFrame\n",
    "x_data = genfromtxt('../data/embs/embsdensity-ince/embs250-5000woccspca.csv',delimiter=',',encoding='utf-8-sig',skip_header=1)\n",
    "# Split data into X and y\n",
    "X = x_data[:,0:128]\n",
    "y = x_data[:,138:143]\n",
    "label = x_data[:,133:136]\n",
    "\n",
    "#label to split as well\n",
    "# Assuming your dataset is stored in X and y\n",
    "# X should contain the first 128 features, and y should contain the corresponding target values\n",
    "\n",
    "# Split the dataset into training and testing sets\n",
    "X_train, X_test, y_train, y_test, label_train, label_test = train_test_split(X, y, label, test_size=0.5, random_state=42)\n",
    "\n",
    "use_train_for_test = False \n"
   ]
  },
  {
   "cell_type": "code",
   "execution_count": 2,
   "metadata": {},
   "outputs": [
    {
     "name": "stdout",
     "output_type": "stream",
     "text": [
      "Mean Square-root Error: 0.0662714406841367\n",
      "0.5183352208762627\n"
     ]
    },
    {
     "name": "stderr",
     "output_type": "stream",
     "text": [
      "/home/amerelsamman/anaconda3/envs/dlchem/lib/python3.7/site-packages/sklearn/neural_network/_multilayer_perceptron.py:696: ConvergenceWarning: Stochastic Optimizer: Maximum iterations (200) reached and the optimization hasn't converged yet.\n",
      "  ConvergenceWarning,\n"
     ]
    }
   ],
   "source": [
    "\n",
    "\n",
    "# Standardize the data\n",
    "scaler_X = StandardScaler()\n",
    "scaler_y = StandardScaler()\n",
    "\n",
    "X_train_scaled = scaler_X.fit_transform(X_train)\n",
    "X_test_scaled = scaler_X.transform(X_test)\n",
    "\n",
    "y_train_scaled = scaler_y.fit_transform(y_train)\n",
    "y_test_scaled = scaler_y.transform(y_test)\n",
    "\n",
    "# Create an MLPRegressor model\n",
    "model = MLPRegressor(hidden_layer_sizes=(200,200), activation='logistic', random_state=42)\n",
    "\n",
    "# Train the model\n",
    "model.fit(X_train_scaled, y_train_scaled)\n",
    "\n",
    "\n",
    "if use_train_for_test == True:\n",
    "    # Make predictions\n",
    "    predictions_scaled = model.predict(X_train_scaled)\n",
    "    predictions = scaler_y.inverse_transform(predictions_scaled)\n",
    "\n",
    "    # Evaluate the model\n",
    "    mse = mean_squared_error(y_train, predictions)\n",
    "    r2 = r2_score(y_train, predictions)\n",
    "else:\n",
    "    # Make predictions\n",
    "    predictions_scaled = model.predict(X_test_scaled)\n",
    "    predictions = scaler_y.inverse_transform(predictions_scaled)\n",
    "\n",
    "    # Evaluate the model\n",
    "    mse = mean_squared_error(y_test, predictions)\n",
    "    r2 = r2_score(y_test, predictions)\n",
    "\n",
    "import math\n",
    "print(\"Mean Square-root Error:\", math.sqrt(mse))\n",
    "print(r2)"
   ]
  },
  {
   "cell_type": "code",
   "execution_count": null,
   "metadata": {},
   "outputs": [],
   "source": [
    "import numpy as np\n",
    "\n",
    "print(np.shape(label_train))\n",
    "print(np.shape(predictions))\n",
    "\n",
    "print(predictions)\n",
    "\n",
    "for i in range(np.shape(predictions)[1]):\n",
    "\n",
    "    if use_train_for_test == True: \n",
    "        save_predictions = np.column_stack((predictions[:,i],y_train[:,i],label_train))\n",
    "    elif use_train_for_test == False: \n",
    "        save_predictions = np.column_stack((predictions[:,i],y_test[:,i],label_test))\n",
    "        \n",
    "    save_pred_filepath = '../data/embs/embsdensity-ince/mlptestpredictions%s.csv'  %(str(i)) \n",
    "    np.savetxt(save_pred_filepath,save_predictions,delimiter=',')\n"
   ]
  },
  {
   "cell_type": "markdown",
   "metadata": {},
   "source": []
  },
  {
   "cell_type": "code",
   "execution_count": null,
   "metadata": {},
   "outputs": [],
   "source": [
    "import numpy as np\n",
    "\n",
    "save_pred_filepath = '../data/embs/embsdensity-ince/mlptestpredictions300-300-300relu.csv'\n",
    "\n",
    "predictions = np.column_stack((y_pred,y_test,label_test))\n",
    "\n",
    "np.savetxt(save_pred_filepath,predictions,delimiter=',')"
   ]
  },
  {
   "cell_type": "code",
   "execution_count": null,
   "metadata": {},
   "outputs": [],
   "source": []
  }
 ],
 "metadata": {
  "kernelspec": {
   "display_name": "dlchem",
   "language": "python",
   "name": "python3"
  },
  "language_info": {
   "codemirror_mode": {
    "name": "ipython",
    "version": 3
   },
   "file_extension": ".py",
   "mimetype": "text/x-python",
   "name": "python",
   "nbconvert_exporter": "python",
   "pygments_lexer": "ipython3",
   "version": "3.7.16"
  },
  "orig_nbformat": 4
 },
 "nbformat": 4,
 "nbformat_minor": 2
}
